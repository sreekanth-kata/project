{
 "cells": [
  {
   "cell_type": "code",
   "execution_count": 1,
   "metadata": {
    "scrolled": true
   },
   "outputs": [
    {
     "name": "stderr",
     "output_type": "stream",
     "text": [
      "Using TensorFlow backend.\n"
     ]
    }
   ],
   "source": [
    "from PIL import Image\n",
    "import scipy.misc\n",
    "import os\n",
    "\n",
    "from __future__ import print_function\n",
    "\n",
    "import scipy.io as spio\n",
    "import matplotlib.pyplot as plt\n",
    "import matplotlib.image as mpimg\n",
    "import numpy as np\n",
    "import keras\n",
    "from keras.models import model_from_json\n",
    "\n",
    "patch_size = 50\n",
    "\n",
    "def evaluateScore(x_): \n",
    "    # modify x_test y_test(GT) by sliding a window in test image to obtain x_test\n",
    "    x_test = np.zeros((1,patch_size, patch_size, 1), dtype=np.float)\n",
    "    x_test[0,:,:,0] = x_;\n",
    "    y_test = np.zeros((1,2), dtype=np.float)\n",
    "    \n",
    "    # evaluate loaded model on test data\n",
    "    scores = loaded_model.evaluate(x_test, y_test, verbose=0)  \n",
    "    return scores[0]"
   ]
  },
  {
   "cell_type": "code",
   "execution_count": null,
   "metadata": {},
   "outputs": [],
   "source": [
    "# load json and create model\n",
    "json_file = open('model.json', 'r')\n",
    "loaded_model_json = json_file.read()\n",
    "json_file.close()\n",
    "loaded_model = model_from_json(loaded_model_json)\n",
    "# load weights into new model\n",
    "loaded_model.load_weights(\"model.h5\")\n",
    "print(\"Loaded model from disk\")\n",
    "loaded_model.compile(loss='binary_crossentropy', \n",
    "                     optimizer='rmsprop', \n",
    "                     metrics=['accuracy'])\n",
    "\n",
    "#load one test image\n",
    "image = Image.open(\"test_img1.png\")#.convert('L')\n",
    "#image.show()\n",
    "\n",
    "#1.create a RGB image (same size of original image) to show the visualization \n",
    "#2.make the test_box GREEN, if the test_box is detected positive, else RED\n",
    "\n",
    "RED = Image.new('RGBA', (patch_size, patch_size), (255,0,0,128))\n",
    "GREEN = Image.new('RGBA', (patch_size, patch_size), (0,255,0,128))\n",
    "for i in range(0, image.size[0], patch_size):\n",
    "    for j in range(0, image.size[1], patch_size):            \n",
    "        box = image.crop((i, j, i + patch_size, j + patch_size))                \n",
    "        x = i\n",
    "        y = j\n",
    "        w = patch_size\n",
    "        h = patch_size\n",
    "        \n",
    "        data = np.asarray(box)  \n",
    "        numpy_sum = np.sum(np.sum(data, axis=0), axis=0)\n",
    "        print('row:', i, ' col:', j, '\\t', 'numpy_sum:',numpy_sum)\n",
    "        \n",
    "        # evaluate this patch\n",
    "        score = evaluateScore(data)        \n",
    "        print('Evaluate score:=', score)\n",
    "       \n",
    "        ## save masked image\n",
    "        name = ('test/ImgWithPatch_i{}_j{}.png').format(i, j)\n",
    "        print(name, '\\n')\n",
    "        result = image.copy();\n",
    "        result = result.convert('RGBA')\n",
    "        break\n",
    "#         if score < 4:\n",
    "#             result.paste(RED, (i, j, i + patch_size, j + patch_size)) \n",
    "#         else:\n",
    "#             result.paste(GREEN, (i, j, i + patch_size, j + patch_size))\n",
    "#         result.save(name, \"PNG\")\n",
    "print(max(score, key=score.get))\n"
   ]
  },
  {
   "cell_type": "code",
   "execution_count": null,
   "metadata": {
    "collapsed": true
   },
   "outputs": [],
   "source": []
  }
 ],
 "metadata": {
  "kernelspec": {
   "display_name": "Python 3",
   "language": "python",
   "name": "python3"
  },
  "language_info": {
   "codemirror_mode": {
    "name": "ipython",
    "version": 3
   },
   "file_extension": ".py",
   "mimetype": "text/x-python",
   "name": "python",
   "nbconvert_exporter": "python",
   "pygments_lexer": "ipython3",
   "version": "3.6.3"
  }
 },
 "nbformat": 4,
 "nbformat_minor": 2
}
