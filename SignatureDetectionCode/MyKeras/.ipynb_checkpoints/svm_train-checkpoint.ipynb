{
 "cells": [
  {
   "cell_type": "code",
   "execution_count": null,
   "metadata": {},
   "outputs": [],
   "source": [
    "from __future__ import print_function\n",
    "\n",
    "import scipy.io as spio\n",
    "import sklearn\n",
    "from sklearn import svm\n",
    "from sklearn.model_selection import StratifiedKFold, train_test_split, cross_val_score\n",
    "from sklearn.metrics import confusion_matrix\n",
    "\n",
    "import matplotlib.pyplot as plt\n",
    "import matplotlib.image as mpimg\n",
    "import numpy as np\n",
    "import pandas as pd\n",
    "import keras\n",
    "import datetime\n",
    "\n",
    "def tobacco_loadData():\n",
    "    mat = spio.loadmat('imdb-tobacco.mat')\n",
    "    images = mat['images']\n",
    "    data = images['data']\n",
    "    labels = images['labels'];\n",
    "    labels = labels[0][0][:][:]\n",
    "    assert np.array_equal(np.unique(labels), np.array([0,1])) # fails if only 0 or 1\n",
    "    im = np.squeeze(data[0][0][:][:])\n",
    "\n",
    "    x_total = im\n",
    "    y_total = labels\n",
    "    set_ = images['set'] # train:1, val:2, test:3\n",
    "    set_ = set_[0,0];\n",
    "\n",
    "    #print ('x_total={} y_total={} set_={}'.format(x_total.shape, y_total.shape, set_.shape))\n",
    "    set_train = set_ == 1;\n",
    "    train_no_sample = np.sum(set_train)\n",
    "    set_test = set_ == 3;\n",
    "    test_no_sample = np.sum(set_test)\n",
    "    x_train = np.reshape(x_total[np.tile(set_train, (patch_size,patch_size,1))], (patch_size,patch_size,1,train_no_sample))\n",
    "    y_train = np.reshape(y_total[set_train], (1,train_no_sample))\n",
    "    x_test = np.reshape(x_total[np.tile(set_test, (patch_size,patch_size,1))], (patch_size,patch_size,1,test_no_sample))\n",
    "    y_test = np.reshape(y_total[set_test], (1,test_no_sample))    \n",
    "\n",
    "    print('END: tobacco_loadData')\n",
    "    return (x_train, y_train), (x_test, y_test)"
   ]
  },
  {
   "cell_type": "code",
   "execution_count": null,
   "metadata": {
    "collapsed": true
   },
   "outputs": [],
   "source": [
    "# params\n",
    "patch_size = 50\n",
    "now = datetime.datetime.now\n",
    "# copy and modify the code for MNIST\n",
    "batch_size = 128\n",
    "num_classes = 2\n",
    "epochs = 3\n",
    "    # input image dimensions\n",
    "img_rows, img_cols = patch_size, patch_size\n",
    "\n",
    "\n",
    "def svmTrain(clf, x_train, y_train, x_test, y_test, num_classes):\n",
    "    x_train = x_train.transpose(3,0,1,2)\n",
    "    x_test = x_test.transpose(3,0,1,2)\n",
    "\n",
    "    # convert class vectors to binary class matrices\n",
    "    y_train = keras.utils.to_categorical(y_train, num_classes)\n",
    "    y_test = keras.utils.to_categorical(y_test, num_classes)\n",
    "    #print(x_train, x_test, y_train, y_test) \n",
    "    print('PASSED') \n",
    "\n",
    "    # Kernel\n",
    "    #t = now()\n",
    "    clf.fit(x_train, y_train) \n",
    "    predicted= clf.predict(x_test)\n",
    "    cnf_matrix = confusion_matrix(y_test, predicted)\n",
    "    print(cnf_matrix)\n",
    "    return\n",
    "   \n",
    "(x_train, y_train), (x_test, y_test) = tobacco_loadData()     \n",
    "#print(x_train.shape, y_train.shape, x_test.shape, y_test.shape)\n",
    "\n",
    "clf = svm.SVC(kernel='poly', C=1)\n",
    "\n",
    "\n",
    "svmTrain(clf, x_train, y_train, x_test, y_test, num_classes)"
   ]
  },
  {
   "cell_type": "code",
   "execution_count": null,
   "metadata": {
    "collapsed": true
   },
   "outputs": [],
   "source": []
  }
 ],
 "metadata": {
  "kernelspec": {
   "display_name": "Python 3",
   "language": "python",
   "name": "python3"
  },
  "language_info": {
   "codemirror_mode": {
    "name": "ipython",
    "version": 3
   },
   "file_extension": ".py",
   "mimetype": "text/x-python",
   "name": "python",
   "nbconvert_exporter": "python",
   "pygments_lexer": "ipython3",
   "version": "3.6.3"
  }
 },
 "nbformat": 4,
 "nbformat_minor": 1
}
